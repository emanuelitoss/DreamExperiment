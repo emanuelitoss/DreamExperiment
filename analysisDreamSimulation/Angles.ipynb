{
 "cells": [
  {
   "cell_type": "markdown",
   "id": "ae68cc94",
   "metadata": {},
   "source": [
    "# Angular distribution of muons"
   ]
  },
  {
   "cell_type": "code",
   "execution_count": 23,
   "id": "50904e27",
   "metadata": {},
   "outputs": [],
   "source": [
    "import matplotlib.pyplot as plt\n",
    "import numpy as np\n",
    "from scipy.interpolate import make_interp_spline, BSpline"
   ]
  },
  {
   "cell_type": "markdown",
   "id": "84f4ae63",
   "metadata": {},
   "source": [
    "Loading data from `positions.txt` and `good_angles.txt`:"
   ]
  },
  {
   "cell_type": "code",
   "execution_count": null,
   "id": "159f580a",
   "metadata": {
    "scrolled": true
   },
   "outputs": [],
   "source": [
    "# loading data from simulation\n",
    "x,y,theta,phi = np.loadtxt(\"positions.txt\", unpack=True, usecols=(0,1,2,3))\n",
    "angles_check = np.loadtxt(\"good_angles.txt\", unpack=True, usecols=(0))\n",
    "\n",
    "# corrections due to the new generation method\n",
    "for idx,t in enumerate(theta):\n",
    "    theta[idx] = np.pi - t\n",
    "\n",
    "# rescaling of units: mm -> cm\n",
    "x = 0.1*x\n",
    "y = 0.1*y\n",
    "\n",
    "# number of Monte Carlo events\n",
    "if(len(x)==len(y)==len(theta)==len(phi)):\n",
    "    print('Data are of equal length. You have {0} events'.format(len(x)))\n",
    "else:\n",
    "    print('There are problems in reading out data')"
   ]
  },
  {
   "cell_type": "markdown",
   "id": "5a490ab4",
   "metadata": {},
   "source": [
    "Theoretical distributions of randomic angles:\n",
    "- Polar angle $\\phi \\in [0,2\\pi]$:\n",
    "$$p(\\phi) = \\frac{1}{2\\pi}$$\n",
    "- Azimuthal angle $\\theta \\in [0,\\frac{\\pi}{2}]$ (restriction):\n",
    "$$p(\\theta) = 3\\cos(\\theta)^2$$"
   ]
  },
  {
   "cell_type": "code",
   "execution_count": null,
   "id": "4ca2b73b",
   "metadata": {},
   "outputs": [],
   "source": [
    "# theoretical distribution functions of angles\n",
    "def Ptheta(x):\n",
    "    return 4*np.cos(x)*np.cos(x)/np.pi\n",
    "\n",
    "# generation of samples for theta\n",
    "sample_angles_theta = np.arange(0, 0.5*np.pi, 0.01)\n",
    "sample_angulardistribution_theta = Ptheta(sample_angles_theta)\n",
    "\n",
    "# generation of samples for phi\n",
    "sample_angles_phi = np.arange(0, 2*np.pi, 0.01)\n",
    "sample_angulardistribution_phi = [0.5/np.pi for i in np.arange(0, len(sample_angles_phi))]"
   ]
  },
  {
   "cell_type": "markdown",
   "id": "61b93da9",
   "metadata": {},
   "source": [
    "Histograms of randomic angles"
   ]
  },
  {
   "cell_type": "code",
   "execution_count": null,
   "id": "11189118",
   "metadata": {},
   "outputs": [],
   "source": [
    "# prepare the figure\n",
    "fig = plt.figure(111, figsize=(9,5), dpi=250)\n",
    "\n",
    "#plot of histos & functions\n",
    "plt.hist(theta, bins=50, label=r'angle $\\theta$', histtype=\"stepfilled\",\n",
    "         color=\"teal\", ec=\"darkslategray\", alpha=0.3, lw=0.75, density=True)\n",
    "plt.hist(phi, bins=100, label=r'angle $\\phi$', histtype='stepfilled',\n",
    "         color=\"seagreen\", ec=\"darkgreen\", alpha=0.3,  lw=0.75, density=True)\n",
    "#plt.plot(sample_angles_theta, sample_angulardistribution_theta,\n",
    "#         label=r'$p(\\theta)=\\frac{4}{\\pi}\\cos(\\theta)^2$', lw=0.65 , color=\"black\")\n",
    "plt.plot(sample_angles_phi, sample_angulardistribution_phi,\n",
    "         label=r'$p(\\phi) = \\frac{1}{2\\pi}$', lw=0.65, color='black')\n",
    "plt.plot(sample_angles_theta, 3*np.cos(sample_angles_theta)*np.cos(sample_angles_theta)*np.sin(sample_angles_theta),\n",
    "         label=r'$p(\\theta)=3\\cos(\\theta)^2\\sin(\\theta)$', lw=0.65 , color=\"black\")\n",
    "\n",
    "# visualize\n",
    "plt.title('Angular distribution of $\\mu^-$ flux')\n",
    "plt.xlabel(r'$\\theta$, $\\phi$ (rad)')\n",
    "plt.ylabel(r'$p(\\theta)$, $p(\\phi)$ & frequencies')\n",
    "plt.xlim(0, 2*np.pi)\n",
    "plt.legend()\n",
    "plt.show()\n",
    "# fig.savefig(\"AngularDistribution.jpg\",bbox_inches='tight')"
   ]
  },
  {
   "cell_type": "code",
   "execution_count": null,
   "id": "2c67164c",
   "metadata": {},
   "outputs": [],
   "source": [
    "good_phis = []\n",
    "good_thetas = []\n",
    "\n",
    "# I want to find good angless to generate muons\n",
    "for idx,check in enumerate(angles_check):\n",
    "    if check==True:\n",
    "        good_phis.append(phi[idx]-np.pi)\n",
    "        good_thetas.append(np.pi - theta[idx])\n",
    "# plot these angles to have an idea:\n",
    "fig = plt.figure(111, figsize=(9,5), dpi=250)\n",
    "plt.plot(good_phis, good_thetas, marker='^', markersize=2, lw=0, color='black')\n",
    "\n",
    "# a line\n",
    "sample_angles_phi = np.arange(0, 2*np.pi, 0.01)\n",
    "sample_angulardistribution_phi = [0.6 for i in np.arange(0, len(sample_angles_phi))]\n",
    "plt.plot(sample_angles_phi, sample_angulardistribution_phi, label='maximum value', lw=0.65, color='black')\n",
    "\n",
    "# visualize\n",
    "plt.title('Angles of detected $\\mu^-$')\n",
    "plt.xlabel(r'$\\phi$ (rad)')\n",
    "plt.ylabel(r'$\\theta$ (rad)')\n",
    "plt.xlim(0, 2*np.pi)\n",
    "plt.ylim(0, np.pi/2)\n",
    "plt.show()\n",
    "fig.savefig(\"good_angles.jpg\",bbox_inches='tight')"
   ]
  },
  {
   "cell_type": "code",
   "execution_count": null,
   "id": "451d916f",
   "metadata": {},
   "outputs": [],
   "source": []
  }
 ],
 "metadata": {
  "kernelspec": {
   "display_name": "Python 3 (ipykernel)",
   "language": "python",
   "name": "python3"
  },
  "language_info": {
   "codemirror_mode": {
    "name": "ipython",
    "version": 3
   },
   "file_extension": ".py",
   "mimetype": "text/x-python",
   "name": "python",
   "nbconvert_exporter": "python",
   "pygments_lexer": "ipython3",
   "version": "3.10.2"
  }
 },
 "nbformat": 4,
 "nbformat_minor": 5
}
