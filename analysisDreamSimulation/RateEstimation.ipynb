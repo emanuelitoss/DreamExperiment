{
 "cells": [
  {
   "cell_type": "markdown",
   "metadata": {},
   "source": [
    "# DREAM EXPERIMENT: analysis of simulated events"
   ]
  },
  {
   "cell_type": "markdown",
   "metadata": {},
   "source": [
    "Importing modules"
   ]
  },
  {
   "cell_type": "code",
   "execution_count": 1,
   "metadata": {},
   "outputs": [],
   "source": [
    "import matplotlib.pyplot as plt\n",
    "import numpy as np\n",
    "import scipy.optimize as optim\n",
    "import scipy.stats as stats\n",
    "\n",
    "# filename (to read data)\n",
    "fileName = '30degrees.txt'\n",
    "directory = '../datasets/'\n",
    "fileName = directory + fileName\n",
    "\n",
    "# constants of the run\n",
    "angles = [-30, 0, 30] # -30=P30\n",
    "# number of events\n",
    "number_generated_events = [1, 1, 1]\n",
    "number_detected_events = [86, 76, 0]\n",
    "for i, val in enumerate(number_generated_events): number_generated_events[i] *=1000000"
   ]
  },
  {
   "cell_type": "markdown",
   "metadata": {},
   "source": [
    "## Rate of detected events"
   ]
  },
  {
   "cell_type": "markdown",
   "metadata": {},
   "source": [
    "I can convert the number of generated events into time in lab through the following formula:\n",
    "$$ T[s] = \\frac{N_g}{0.019\\cdot S[cm^2]} $$\n",
    "where $N_g$ is the number of generated events and $S$ is the surface of the tangent plane. In pur case the tangent plane is a circle of radius $r = \\frac{1}{2}R$, with $R$ radius of the envelope.\n",
    "Then, since the rate is the number of detected events $N_d$ per time, we recover:\n",
    "$$ \\Gamma[s^{-1}] = \\frac{N_d \\cdot 0.019\\cdot S[cm^2]}{N_g} $$"
   ]
  },
  {
   "cell_type": "code",
   "execution_count": 2,
   "metadata": {},
   "outputs": [
    {
     "name": "stdout",
     "output_type": "stream",
     "text": [
      "LABORATORY:\n",
      "Rate of detected muons in lab is (w/o error): 1.920290e-03 Hz\n",
      "\n",
      "SIMULATION:\n",
      "\n",
      "Rate in simulation (-30 degrees): 3.585370e-03 +/- 3.866204e-04 Hz\n",
      "Rate in simulation (0 degrees): 3.168467e-03 +/- 3.634481e-04 Hz\n",
      "Rate in simulation (30 degrees): 0.000000e+00 +/- 0.000000e+00 Hz\n"
     ]
    }
   ],
   "source": [
    "# rate in lab\n",
    "true_time_lab = 92*3600 # 92h\n",
    "rate_lab = 636/true_time_lab # 443\n",
    "print('LABORATORY:\\nRate of detected muons in lab is (w/o error): {:e} Hz\\n'.format(rate_lab))\n",
    "\n",
    "rates, delta_rates = [],[]\n",
    "# extrapolation\n",
    "for i, angle in enumerate(angles): \n",
    "    Ng = number_generated_events[i]\n",
    "    Nd = number_detected_events[i]\n",
    "    delta_Nd = np.sqrt(Nd)\n",
    "    radius_envelope = 23.4213 # cm\n",
    "    surface = 4*(radius_envelope)*(radius_envelope) # cm^2\n",
    "    time_lab = Ng/0.019/surface\n",
    "    rates.append(Nd/time_lab)\n",
    "    delta_rates.append(delta_Nd/time_lab)\n",
    "\n",
    "# rate of detected events\n",
    "print('SIMULATION:\\n')\n",
    "for i, angle in enumerate(angles):\n",
    "      print('Rate in simulation ({:0} degrees): {:e} +/- {:e} Hz'.format(angle, rates[i], delta_rates[i]))"
   ]
  },
  {
   "cell_type": "code",
   "execution_count": null,
   "metadata": {},
   "outputs": [],
   "source": []
  }
 ],
 "metadata": {
  "interpreter": {
   "hash": "0adcc2737ebf6a4a119f135174df96668767fca1ef1112612db5ecadf2b6d608"
  },
  "kernelspec": {
   "display_name": "Python 3 (ipykernel)",
   "language": "python",
   "name": "python3"
  },
  "language_info": {
   "codemirror_mode": {
    "name": "ipython",
    "version": 3
   },
   "file_extension": ".py",
   "mimetype": "text/x-python",
   "name": "python",
   "nbconvert_exporter": "python",
   "pygments_lexer": "ipython3",
   "version": "3.10.2"
  }
 },
 "nbformat": 4,
 "nbformat_minor": 2
}
